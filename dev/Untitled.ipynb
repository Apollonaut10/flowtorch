{
 "cells": [
  {
   "cell_type": "code",
   "execution_count": 3,
   "id": "ea7b1b44-ff95-4cd0-8874-06f96f842046",
   "metadata": {},
   "outputs": [
    {
     "name": "stdout",
     "output_type": "stream",
     "text": [
      "Warning: TecplotDataloader can't be loaded. Most likely, the 'paraview' module is missing.\n",
      "Refer to the installation instructions at https://github.com/FlowModelingControl/flowtorch\n",
      "If you are not using the TecplotDataloader, ignore this warning.\n"
     ]
    }
   ],
   "source": [
    "import sys\n",
    "from os.path import join\n",
    "import numpy as np\n",
    "import matplotlib.pyplot as plt\n",
    "from netCDF4 import Dataset\n",
    "import torch as pt\n",
    "sys.path.append(\"/home/spin_se/Software/flowtorch\")\n",
    "import flowtorch\n",
    "from flowtorch.data import TAUSurfaceDataloader\n",
    "from flowtorch import DATASETS"
   ]
  },
  {
   "cell_type": "code",
   "execution_count": 4,
   "id": "2577efb9-490c-49b8-bdc8-cf9443e4d53c",
   "metadata": {},
   "outputs": [],
   "source": [
    "path_ds = DATASETS[\"tau_surface_import\"]\n",
    "file_name = \"tau_euler.para\"\n",
    "loader = TAUSurfaceDataloader(join(path_ds,file_name))"
   ]
  },
  {
   "cell_type": "code",
   "execution_count": 5,
   "id": "89f0bd47-eeb5-459b-9ecc-5a3b65d2ac98",
   "metadata": {},
   "outputs": [
    {
     "data": {
      "text/plain": [
       "['1.000e+00',\n",
       " '2.000e+00',\n",
       " '3.000e+00',\n",
       " '4.000e+00',\n",
       " '5.000e+00',\n",
       " '6.000e+00',\n",
       " '7.000e+00',\n",
       " '8.000e+00',\n",
       " '9.000e+00',\n",
       " '1.000e+01']"
      ]
     },
     "execution_count": 5,
     "metadata": {},
     "output_type": "execute_result"
    }
   ],
   "source": [
    "times = loader.write_times\n",
    "times"
   ]
  },
  {
   "cell_type": "code",
   "execution_count": 6,
   "id": "eb20c46f-7c88-4025-b4f6-b99dc6a5c1bd",
   "metadata": {},
   "outputs": [
    {
     "data": {
      "text/plain": [
       "['1', '2', '3', '4', '5', '6', '7']"
      ]
     },
     "execution_count": 6,
     "metadata": {},
     "output_type": "execute_result"
    }
   ],
   "source": [
    "loader.zone_names"
   ]
  },
  {
   "cell_type": "code",
   "execution_count": 7,
   "id": "b0013d4b-93d2-4c40-ba0a-b43917b07ef3",
   "metadata": {},
   "outputs": [
    {
     "ename": "NameError",
     "evalue": "name 'vertices' is not defined",
     "output_type": "error",
     "traceback": [
      "\u001b[0;31m---------------------------------------------------------------------------\u001b[0m",
      "\u001b[0;31mNameError\u001b[0m                                 Traceback (most recent call last)",
      "Cell \u001b[0;32mIn[7], line 1\u001b[0m\n\u001b[0;32m----> 1\u001b[0m \u001b[43mloader\u001b[49m\u001b[38;5;241;43m.\u001b[39;49m\u001b[43mvertices\u001b[49m\u001b[38;5;241m.\u001b[39mshape[\u001b[38;5;241m0\u001b[39m]\n",
      "File \u001b[0;32m~/Software/flowtorch/flowtorch/data/tau_surfacedataloader.py:253\u001b[0m, in \u001b[0;36mTAUSurfaceDataloader.vertices\u001b[0;34m(self)\u001b[0m\n\u001b[1;32m    250\u001b[0m \u001b[39m@property\u001b[39m\n\u001b[1;32m    251\u001b[0m \u001b[39mdef\u001b[39;00m \u001b[39mvertices\u001b[39m(\u001b[39mself\u001b[39m) \u001b[39m-\u001b[39m\u001b[39m>\u001b[39m pt\u001b[39m.\u001b[39mTensor:\n\u001b[1;32m    252\u001b[0m     \u001b[39mif\u001b[39;00m \u001b[39mself\u001b[39m\u001b[39m.\u001b[39m_mesh_data \u001b[39mis\u001b[39;00m \u001b[39mNone\u001b[39;00m:\n\u001b[0;32m--> 253\u001b[0m         \u001b[39mself\u001b[39;49m\u001b[39m.\u001b[39;49m_load_mesh_data()\n\u001b[1;32m    254\u001b[0m     \u001b[39mreturn\u001b[39;00m \u001b[39mself\u001b[39m\u001b[39m.\u001b[39m_mesh_data[:, :\u001b[39m3\u001b[39m]\n",
      "File \u001b[0;32m~/Software/flowtorch/flowtorch/data/tau_surfacedataloader.py:162\u001b[0m, in \u001b[0;36mTAUSurfaceDataloader._load_mesh_data\u001b[0;34m(self)\u001b[0m\n\u001b[1;32m    157\u001b[0m     surface_tris \u001b[39m=\u001b[39m data\u001b[39m.\u001b[39mvariables[\u001b[39m\"\u001b[39m\u001b[39mpoints_of_surfacetriangles\u001b[39m\u001b[39m\"\u001b[39m][:]\n\u001b[1;32m    158\u001b[0m     surface_quads \u001b[39m=\u001b[39m data\u001b[39m.\u001b[39mvariables[\u001b[39m\"\u001b[39m\u001b[39mpoints_of_surfacequadrilaterals\u001b[39m\u001b[39m\"\u001b[39m][:]\n\u001b[0;32m--> 162\u001b[0m \u001b[39mself\u001b[39m\u001b[39m.\u001b[39m_mesh_data \u001b[39m=\u001b[39m pt\u001b[39m.\u001b[39mcat((vertices, weights\u001b[39m.\u001b[39munsqueeze(\u001b[39m-\u001b[39m\u001b[39m1\u001b[39m)), dim\u001b[39m=\u001b[39m\u001b[39m-\u001b[39m\u001b[39m1\u001b[39m)\n",
      "\u001b[0;31mNameError\u001b[0m: name 'vertices' is not defined"
     ]
    }
   ],
   "source": [
    "loader.vertices.shape[0]"
   ]
  },
  {
   "cell_type": "code",
   "execution_count": null,
   "id": "f1404453-629f-473c-8e2c-3a5209bf08b0",
   "metadata": {},
   "outputs": [],
   "source": [
    "loader.field_names[times[0]]"
   ]
  },
  {
   "cell_type": "code",
   "execution_count": null,
   "id": "b73b1797-7cae-4c90-9fd6-8ef912facf50",
   "metadata": {},
   "outputs": [],
   "source": [
    "cp = loader.load_snapshot(\"cp\", times)"
   ]
  },
  {
   "cell_type": "code",
   "execution_count": null,
   "id": "6b9f4889-f4e2-41d4-841e-c6de5425224f",
   "metadata": {},
   "outputs": [],
   "source": [
    "x = loader.vertices[:,0]\n",
    "y = loader.vertices[:,1]\n",
    "z = loader.vertices[:,2]"
   ]
  },
  {
   "cell_type": "code",
   "execution_count": null,
   "id": "03598bb9-ad19-48de-a484-21769704224b",
   "metadata": {},
   "outputs": [],
   "source": [
    "cp[:,0].shape"
   ]
  },
  {
   "cell_type": "code",
   "execution_count": null,
   "id": "a99702b0-55d1-4816-911d-b61e52bff765",
   "metadata": {},
   "outputs": [],
   "source": [
    "fig, ax = plt.subplots()\n",
    "ax.scatter(x,y,c=cp[:,0])\n",
    "plt.show()"
   ]
  },
  {
   "cell_type": "code",
   "execution_count": 8,
   "id": "c30e1079-b83e-41f2-a1a2-8e47448732fc",
   "metadata": {},
   "outputs": [
    {
     "data": {
      "text/plain": [
       "{'marker': <class 'netCDF4._netCDF4.Variable'>\n",
       " int32 marker(no_of_markers)\n",
       " unlimited dimensions: \n",
       " current shape = (7,)\n",
       " filling on, default _FillValue of -2147483647 used,\n",
       " 'centaur_key': <class 'netCDF4._netCDF4.Variable'>\n",
       " int32 centaur_key(no_of_markers)\n",
       " unlimited dimensions: \n",
       " current shape = (7,)\n",
       " filling on, default _FillValue of -2147483647 used,\n",
       " 'points_of_tetraeders': <class 'netCDF4._netCDF4.Variable'>\n",
       " int32 points_of_tetraeders(no_of_tetraeders, points_per_tetraeder)\n",
       " unlimited dimensions: \n",
       " current shape = (9222, 4)\n",
       " filling on, default _FillValue of -2147483647 used,\n",
       " 'points_of_prisms': <class 'netCDF4._netCDF4.Variable'>\n",
       " int32 points_of_prisms(no_of_prisms, points_per_prism)\n",
       " unlimited dimensions: \n",
       " current shape = (762, 6)\n",
       " filling on, default _FillValue of -2147483647 used,\n",
       " 'points_of_pyramids': <class 'netCDF4._netCDF4.Variable'>\n",
       " int32 points_of_pyramids(no_of_pyramids, points_per_pyramid)\n",
       " unlimited dimensions: \n",
       " current shape = (180, 5)\n",
       " filling on, default _FillValue of -2147483647 used,\n",
       " 'points_of_hexaeders': <class 'netCDF4._netCDF4.Variable'>\n",
       " int32 points_of_hexaeders(no_of_hexaeders, points_per_hexaeder)\n",
       " unlimited dimensions: \n",
       " current shape = (72, 8)\n",
       " filling on, default _FillValue of -2147483647 used,\n",
       " 'points_of_surfacetriangles': <class 'netCDF4._netCDF4.Variable'>\n",
       " int32 points_of_surfacetriangles(no_of_surfacetriangles, points_per_surfacetriangle)\n",
       " unlimited dimensions: \n",
       " current shape = (644, 3)\n",
       " filling on, default _FillValue of -2147483647 used,\n",
       " 'points_of_surfacequadrilaterals': <class 'netCDF4._netCDF4.Variable'>\n",
       " int32 points_of_surfacequadrilaterals(no_of_surfacequadrilaterals, points_per_surfacequadrilateral)\n",
       " unlimited dimensions: \n",
       " current shape = (36, 4)\n",
       " filling on, default _FillValue of -2147483647 used,\n",
       " 'boundarymarker_of_surfaces': <class 'netCDF4._netCDF4.Variable'>\n",
       " int32 boundarymarker_of_surfaces(no_of_surfaceelements)\n",
       " unlimited dimensions: \n",
       " current shape = (680,)\n",
       " filling on, default _FillValue of -2147483647 used,\n",
       " 'boundarypanel_of_surfaces': <class 'netCDF4._netCDF4.Variable'>\n",
       " int32 boundarypanel_of_surfaces(no_of_surfaceelements)\n",
       " unlimited dimensions: \n",
       " current shape = (680,)\n",
       " filling on, default _FillValue of -2147483647 used,\n",
       " 'points_xc': <class 'netCDF4._netCDF4.Variable'>\n",
       " float64 points_xc(no_of_points)\n",
       " unlimited dimensions: \n",
       " current shape = (2276,)\n",
       " filling on, default _FillValue of 9.969209968386869e+36 used,\n",
       " 'points_yc': <class 'netCDF4._netCDF4.Variable'>\n",
       " float64 points_yc(no_of_points)\n",
       " unlimited dimensions: \n",
       " current shape = (2276,)\n",
       " filling on, default _FillValue of 9.969209968386869e+36 used,\n",
       " 'points_zc': <class 'netCDF4._netCDF4.Variable'>\n",
       " float64 points_zc(no_of_points)\n",
       " unlimited dimensions: \n",
       " current shape = (2276,)\n",
       " filling on, default _FillValue of 9.969209968386869e+36 used,\n",
       " 'blockownpointidx': <class 'netCDF4._netCDF4.Variable'>\n",
       " int32 blockownpointidx(no_of_blocks_p1)\n",
       " unlimited dimensions: \n",
       " current shape = (2,)\n",
       " filling on, default _FillValue of -2147483647 used,\n",
       " 'blockid': <class 'netCDF4._netCDF4.Variable'>\n",
       " int32 blockid(no_of_blocks)\n",
       " unlimited dimensions: \n",
       " current shape = (1,)\n",
       " filling on, default _FillValue of -2147483647 used}"
      ]
     },
     "execution_count": 8,
     "metadata": {},
     "output_type": "execute_result"
    }
   ],
   "source": [
    "mfile = join(loader._para.path, loader._para.config[\"primary_grid\"])\n",
    "mdata = Dataset(mfile)\n",
    "mdata.variables"
   ]
  },
  {
   "cell_type": "code",
   "execution_count": 65,
   "id": "1c18e604-e790-4d1d-bb9d-d3edd4551dbc",
   "metadata": {},
   "outputs": [
    {
     "data": {
      "text/plain": [
       "masked_array(\n",
       "  data=[[  2,  60,  72],\n",
       "        [ 74,  24,   5],\n",
       "        [ 73,  75,  74],\n",
       "        ...,\n",
       "        [726, 845, 699],\n",
       "        [764, 710, 709],\n",
       "        [710, 810, 709]],\n",
       "  mask=False,\n",
       "  fill_value=999999,\n",
       "  dtype=int32)"
      ]
     },
     "execution_count": 65,
     "metadata": {},
     "output_type": "execute_result"
    }
   ],
   "source": [
    "b_o_s = mdata.variables[\"boundarymarker_of_surfaces\"][:]\n",
    "p_o_s = mdata.variables[\"points_of_surfacetriangles\"][:]\n",
    "p_o_q = mdata.variables[\"points_of_surfacequadrilaterals\"][:]\n",
    "xc  = mdata.variables[\"points_xc\"]\n",
    "yc  = mdata.variables[\"points_yc\"]\n",
    "zc  = mdata.variables[\"points_zc\"]\n",
    "p_o_s"
   ]
  },
  {
   "cell_type": "code",
   "execution_count": 27,
   "id": "c3117897",
   "metadata": {},
   "outputs": [
    {
     "data": {
      "text/plain": [
       "(array([  0,   1,   2,   3,   4,   5,   6,   7,   8,   9,  10,  11,  12,\n",
       "         13,  14,  15,  16,  17,  18,  19,  20,  21,  22,  23,  24,  25,\n",
       "         26,  27,  28,  29,  30,  31,  32,  33,  34, 652, 653, 654, 655,\n",
       "        656, 657, 658, 659, 660, 661, 662, 663, 664, 665, 666, 667, 668,\n",
       "        669, 670, 671, 672, 673, 674, 675, 676, 677, 678, 679]),)"
      ]
     },
     "execution_count": 27,
     "metadata": {},
     "output_type": "execute_result"
    }
   ],
   "source": [
    "indices_of_marker = np.where((b_o_s == 7) | (b_o_s == 1))\n",
    "indices_of_marker"
   ]
  },
  {
   "cell_type": "code",
   "execution_count": 71,
   "id": "e9f63461",
   "metadata": {},
   "outputs": [
    {
     "data": {
      "text/plain": [
       "tensor([[  2.,  60.,  72.,  nan],\n",
       "        [ 74.,  24.,   5.,  nan],\n",
       "        [ 73.,  75.,  74.,  nan],\n",
       "        ...,\n",
       "        [162.,  14.,  15., 163.],\n",
       "        [163.,  15.,  16., 164.],\n",
       "        [164.,  16.,   2.,  72.]])"
      ]
     },
     "execution_count": 71,
     "metadata": {},
     "output_type": "execute_result"
    }
   ],
   "source": [
    "nan_pt = pt.zeros(size=(len(p_o_s),1))\n",
    "nan_pt[add_pt==0] = float('nan')\n",
    "# add nan to every triangle as 4th element so we can join the tensors\n",
    "filled_p_o_s = pt.cat((pt.tensor(p_o_s, dtype=int), add_pt),1)\n",
    "# join the tensors of tris and quads together\n",
    "points_of_tris_and_quads = pt.cat((filled_p_o_s, pt.tensor(p_o_q)))"
   ]
  },
  {
   "cell_type": "code",
   "execution_count": null,
   "id": "07f8ebe9-eff4-4297-abd9-c867d616c6f3",
   "metadata": {},
   "outputs": [],
   "source": [
    "# For Triangles only\n",
    "indices_of_marker = np.where(b_o_s == 1)\n",
    "global_id_of_marker_points = np.unique(p_o_s[indices_of_marker].flatten())\n",
    "xs = xc[global_id_of_marker_points]\n",
    "ys = yc[global_id_of_marker_points]\n",
    "zs = zc[global_id_of_marker_points]\n",
    "global_id_of_marker_points"
   ]
  },
  {
   "cell_type": "code",
   "execution_count": null,
   "id": "1972e6c1-3dad-497c-b739-2d07b7b5c9a5",
   "metadata": {},
   "outputs": [],
   "source": [
    "sfile = loader._file_name(times[0])\n",
    "sdata = Dataset(sfile)"
   ]
  },
  {
   "cell_type": "code",
   "execution_count": null,
   "id": "413621c9-977b-4da4-a50a-9603176b8506",
   "metadata": {},
   "outputs": [],
   "source": [
    "gid = sdata.variables[\"global_id\"][:]\n",
    "cp = sdata.variables[\"cp\"][:]\n",
    "gid"
   ]
  },
  {
   "cell_type": "code",
   "execution_count": null,
   "id": "e4edb2e4",
   "metadata": {},
   "outputs": [],
   "source": [
    "indices = np.where(np.in1d(gid, global_id_of_marker_points))[0]\n",
    "indices"
   ]
  },
  {
   "cell_type": "code",
   "execution_count": null,
   "id": "f52b1f7f",
   "metadata": {},
   "outputs": [],
   "source": [
    "cp = sdata.variables[\"cp\"][:][np.where(np.in1d(gid,global_id_of_marker_points))[0]]\n",
    "xtest = sdata.variables[\"x\"][:][np.where(np.in1d(gid,global_id_of_marker_points))[0]]\n",
    "ytest = sdata.variables[\"y\"][:][np.where(np.in1d(gid,global_id_of_marker_points))[0]]\n",
    "fig, ax = plt.subplots()\n",
    "ax.scatter(xs,ys, marker='^')\n",
    "ax.scatter(xtest,ytest, marker='v')\n",
    "plt.show()"
   ]
  },
  {
   "cell_type": "markdown",
   "id": "694e9cc5-38fe-48a7-972c-74737c934b73",
   "metadata": {},
   "source": [
    "# Prototyping"
   ]
  },
  {
   "cell_type": "code",
   "execution_count": null,
   "id": "e287c329-0f4c-483b-9aa5-2bc877f84f56",
   "metadata": {},
   "outputs": [],
   "source": [
    "import numpy as np\n",
    "import torch as pt\n",
    "from netCDF4 import Dataset\n",
    "from os.path import join"
   ]
  },
  {
   "cell_type": "code",
   "execution_count": null,
   "id": "af2b6f63-de03-41d4-b6f6-7359d3fee1e0",
   "metadata": {},
   "outputs": [],
   "source": [
    "mfile = join(loader._para.path, loader._para.config[\"primary_grid\"])\n",
    "mdata = Dataset(mfile)"
   ]
  },
  {
   "cell_type": "code",
   "execution_count": null,
   "id": "13a2774c-95a2-4b0e-9e66-8772ed6de263",
   "metadata": {},
   "outputs": [],
   "source": [
    "points_x = mdata.variables[\"points_xc\"]\n",
    "points_y = mdata.variables[\"points_yc\"]\n",
    "points_z = mdata.variables[\"points_zc\"]\n",
    "points_tri = mdata.variables[\"points_of_surfacetriangles\"]\n",
    "points_quad = mdata.variables[\"points_of_surfacequadrilaterals\"]\n",
    "marker_list = mdata.variables[\"boundarymarker_of_surfaces\"]"
   ]
  },
  {
   "cell_type": "code",
   "execution_count": null,
   "id": "0eef6459-8399-46f6-a652-a263900ef39f",
   "metadata": {},
   "outputs": [],
   "source": [
    "\"\"\"\n",
    "# Assuming you have the following lists\n",
    "points_x = np.array([0.5, 0.2, 0.8, 0.6, 0.4, 0.7, 0.3, 0.9])\n",
    "points_y = np.array([0.1, 0.4, 0.6, 0.9, 0.2, 0.5, 0.8, 0.3])\n",
    "points_z = np.array([0.7, 0.3, 0.9, 0.4, 0.8, 0.5, 0.2, 0.6])\n",
    "points_tri = [[0, 1, 2], [3, 4, 5], [6, 7, 0], [1, 3, 5]]\n",
    "points_quad = [[0, 1, 2, 3], [4, 5, 6, 7]]\n",
    "marker_list = [200, 200, 200, 400, 500, 200]\n",
    "\"\"\"\n",
    "\n",
    "# Combine x, y, z coordinates into a single array\n",
    "points_xyz = np.column_stack((points_x, points_y, points_z))\n",
    "\n",
    "# Create a dictionary to map unique points to their indices and markers\n",
    "unique_points = {}\n",
    "unique_markers = {}\n",
    "\n",
    "# Iterate over triangle list and marker list\n",
    "for triangle, marker in zip(points_tri, marker_list[:len(points_tri)]):\n",
    "    points_triangle = points_xyz[triangle]\n",
    "    for point in points_triangle:\n",
    "        point_key = tuple(np.append(point,marker))\n",
    "        if point_key not in unique_points:\n",
    "            unique_points[point_key] = len(unique_points)\n",
    "            unique_markers[point_key] = marker\n",
    "\n",
    "# Iterate over quad list and marker list\n",
    "for quad, marker in zip(points_quad, marker_list[len(points_tri):]):\n",
    "    points_quad = points_xyz[quad]\n",
    "    for point in points_quad:\n",
    "        point_key = tuple(np.append(point,marker))\n",
    "        if point_key not in unique_points:\n",
    "            unique_points[point_key] = len(unique_points)\n",
    "            unique_markers[point_key] = marker\n",
    "\n",
    "# Create a new array to store unique points and markers\n",
    "unique_array = np.zeros((len(unique_points), 4))  # Assuming 3D points and 1 marker value\n",
    "unique_array[:, :] = np.array(list(unique_points.keys()))\n",
    "\n",
    "# Remove duplicate points with same markers\n",
    "_, unique_indices = np.unique(unique_array[:, :], axis=0, return_index=True)\n",
    "unique_array = unique_array[unique_indices]\n",
    "\n",
    "print(unique_array.shape)"
   ]
  },
  {
   "cell_type": "code",
   "execution_count": null,
   "id": "a7fadb4c-c3b7-4c58-b349-c187779e54eb",
   "metadata": {},
   "outputs": [],
   "source": []
  },
  {
   "cell_type": "markdown",
   "id": "4c858cf1-ad53-4796-b11b-ece8c0d6d5f6",
   "metadata": {},
   "source": [
    "# Faster version"
   ]
  },
  {
   "cell_type": "code",
   "execution_count": null,
   "id": "c988e67a-b958-4ece-8dd4-e9550de0f99d",
   "metadata": {},
   "outputs": [],
   "source": [
    "mfile = join(loader._para.path, loader._para.config[\"primary_grid\"])\n",
    "mdata = Dataset(mfile)\n",
    "points_x = mdata.variables[\"points_xc\"][:]\n",
    "points_y = mdata.variables[\"points_yc\"][:]\n",
    "points_z = mdata.variables[\"points_zc\"][:]\n",
    "points_tri = mdata.variables[\"points_of_surfacetriangles\"][:]\n",
    "points_quad = mdata.variables[\"points_of_surfacequadrilaterals\"][:]\n",
    "marker_list = mdata.variables[\"boundarymarker_of_surfaces\"][:]"
   ]
  },
  {
   "cell_type": "code",
   "execution_count": null,
   "id": "82a15d21-574a-4f6e-8295-9ece3bfdbc13",
   "metadata": {},
   "outputs": [],
   "source": [
    "import numpy as np\n",
    "\n",
    "# Assuming you have the following lists\n",
    "points_x = np.array([0.5, 0.2, 0.8, 0.6, 0.4, 0.7, 0.3, 0.9])\n",
    "points_y = np.array([0.1, 0.4, 0.6, 0.9, 0.2, 0.5, 0.8, 0.3])\n",
    "points_z = np.array([0.7, 0.3, 0.9, 0.4, 0.8, 0.5, 0.2, 0.6])\n",
    "points_tri = np.array([[0, 1, 2], [3, 4, 5], [6, 7, 0], [1, 3, 5]])\n",
    "points_quad = np.array([[0, 1, 2, 3], [4, 5, 6, 7]])\n",
    "marker_list = np.array([200, 200, 200, 400, 500, 200])\n",
    "\n",
    "# Combine x, y, z coordinates into a single array\n",
    "points_xyz = np.column_stack((points_x, points_y, points_z))\n",
    "\n",
    "# Create a new array to store combined indices\n",
    "num_triangles = len(points_tri)\n",
    "num_quads = len(points_quad)\n",
    "total_triangles = num_triangles + num_quads\n",
    "points_indices = np.full((total_triangles, 4), -1, dtype=int)\n",
    "points_indices[:num_triangles, :3] = points_tri\n",
    "points_indices[num_triangles:, :] = points_quad\n",
    "\n",
    "# Combine marker_list for triangle and quad\n",
    "combined_marker_list = np.concatenate((marker_list[:num_triangles], marker_list[num_triangles:]))\n",
    "\n",
    "# Create a structured array to store unique points and markers\n",
    "dtype = [('x', float), ('y', float), ('z', float), ('marker', int)]\n",
    "unique_points = []\n",
    "unique_markers = []\n",
    "\n",
    "# Iterate over indices and marker_list simultaneously\n",
    "for indices, marker in zip(points_indices, combined_marker_list):\n",
    "    indices = indices[indices != -1]  # Remove -1 values\n",
    "    points = points_xyz[indices]\n",
    "    unique_points.append(points)\n",
    "    unique_markers.append(np.full(len(points), marker))\n",
    "\n",
    "unique_points = np.concatenate(unique_points)\n",
    "unique_markers = np.concatenate(unique_markers)\n",
    "\n",
    "# Remove duplicate points with same markers\n",
    "_, unique_indices = np.unique(np.column_stack((unique_points, unique_markers)), return_index=True)\n",
    "unique_array = np.empty(len(unique_indices), dtype=dtype)\n",
    "unique_array['x'] = unique_points[unique_indices, 0]\n",
    "unique_array['y'] = unique_points[unique_indices, 1]\n",
    "unique_array['z'] = unique_points[unique_indices, 2]\n",
    "unique_array['marker'] = unique_markers[unique_indices]\n",
    "\n",
    "print(unique_array)"
   ]
  },
  {
   "cell_type": "code",
   "execution_count": null,
   "id": "d56195d8-a114-40f5-b36e-ca63a382174d",
   "metadata": {},
   "outputs": [],
   "source": []
  }
 ],
 "metadata": {
  "kernelspec": {
   "display_name": "Python 3.8.16 ('flowtorch-dev-py38')",
   "language": "python",
   "name": "python3"
  },
  "language_info": {
   "codemirror_mode": {
    "name": "ipython",
    "version": 3
   },
   "file_extension": ".py",
   "mimetype": "text/x-python",
   "name": "python",
   "nbconvert_exporter": "python",
   "pygments_lexer": "ipython3",
   "version": "3.8.16"
  },
  "vscode": {
   "interpreter": {
    "hash": "8e3c86d9fe54c5870d0ea6d61be8713fd07e9fc4dd4b6ae80f2d5c03aca049ed"
   }
  }
 },
 "nbformat": 4,
 "nbformat_minor": 5
}
