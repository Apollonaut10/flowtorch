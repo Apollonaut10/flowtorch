{
 "cells": [
  {
   "cell_type": "code",
   "execution_count": 3,
   "id": "ea7b1b44-ff95-4cd0-8874-06f96f842046",
   "metadata": {},
   "outputs": [
    {
     "name": "stdout",
     "output_type": "stream",
     "text": [
      "Warning: TecplotDataloader can't be loaded. Most likely, the 'paraview' module is missing.\n",
      "Refer to the installation instructions at https://github.com/FlowModelingControl/flowtorch\n",
      "If you are not using the TecplotDataloader, ignore this warning.\n"
     ]
    }
   ],
   "source": [
    "import sys\n",
    "from os.path import join\n",
    "import numpy as np\n",
    "import matplotlib.pyplot as plt\n",
    "from netCDF4 import Dataset\n",
    "import torch as pt\n",
    "sys.path.append(\"/home/spin_se/Software/flowtorch\")\n",
    "import flowtorch\n",
    "from flowtorch.data import TAUSurfaceDataloader\n",
    "from flowtorch import DATASETS"
   ]
  },
  {
   "cell_type": "code",
   "execution_count": 4,
   "id": "2577efb9-490c-49b8-bdc8-cf9443e4d53c",
   "metadata": {},
   "outputs": [],
   "source": [
    "path_ds = DATASETS[\"tau_surface_import\"]\n",
    "file_name = \"tau_euler.para\"\n",
    "loader = TAUSurfaceDataloader(join(path_ds,file_name))"
   ]
  },
  {
   "cell_type": "code",
   "execution_count": 5,
   "id": "89f0bd47-eeb5-459b-9ecc-5a3b65d2ac98",
   "metadata": {},
   "outputs": [
    {
     "data": {
      "text/plain": [
       "['1.000e+00',\n",
       " '2.000e+00',\n",
       " '3.000e+00',\n",
       " '4.000e+00',\n",
       " '5.000e+00',\n",
       " '6.000e+00',\n",
       " '7.000e+00',\n",
       " '8.000e+00',\n",
       " '9.000e+00',\n",
       " '1.000e+01']"
      ]
     },
     "execution_count": 5,
     "metadata": {},
     "output_type": "execute_result"
    }
   ],
   "source": [
    "times = loader.write_times\n",
    "times"
   ]
  },
  {
   "cell_type": "code",
   "execution_count": 6,
   "id": "eb20c46f-7c88-4025-b4f6-b99dc6a5c1bd",
   "metadata": {},
   "outputs": [
    {
     "data": {
      "text/plain": [
       "['1', '2', '3', '4', '5', '6', '7']"
      ]
     },
     "execution_count": 6,
     "metadata": {},
     "output_type": "execute_result"
    }
   ],
   "source": [
    "loader.zone_names"
   ]
  },
  {
   "cell_type": "code",
   "execution_count": 7,
   "id": "b0013d4b-93d2-4c40-ba0a-b43917b07ef3",
   "metadata": {},
   "outputs": [
    {
     "ename": "NameError",
     "evalue": "name 'vertices' is not defined",
     "output_type": "error",
     "traceback": [
      "\u001b[0;31m---------------------------------------------------------------------------\u001b[0m",
      "\u001b[0;31mNameError\u001b[0m                                 Traceback (most recent call last)",
      "Cell \u001b[0;32mIn[7], line 1\u001b[0m\n\u001b[0;32m----> 1\u001b[0m \u001b[43mloader\u001b[49m\u001b[38;5;241;43m.\u001b[39;49m\u001b[43mvertices\u001b[49m\u001b[38;5;241m.\u001b[39mshape[\u001b[38;5;241m0\u001b[39m]\n",
      "File \u001b[0;32m~/Software/flowtorch/flowtorch/data/tau_surfacedataloader.py:253\u001b[0m, in \u001b[0;36mTAUSurfaceDataloader.vertices\u001b[0;34m(self)\u001b[0m\n\u001b[1;32m    250\u001b[0m \u001b[39m@property\u001b[39m\n\u001b[1;32m    251\u001b[0m \u001b[39mdef\u001b[39;00m \u001b[39mvertices\u001b[39m(\u001b[39mself\u001b[39m) \u001b[39m-\u001b[39m\u001b[39m>\u001b[39m pt\u001b[39m.\u001b[39mTensor:\n\u001b[1;32m    252\u001b[0m     \u001b[39mif\u001b[39;00m \u001b[39mself\u001b[39m\u001b[39m.\u001b[39m_mesh_data \u001b[39mis\u001b[39;00m \u001b[39mNone\u001b[39;00m:\n\u001b[0;32m--> 253\u001b[0m         \u001b[39mself\u001b[39;49m\u001b[39m.\u001b[39;49m_load_mesh_data()\n\u001b[1;32m    254\u001b[0m     \u001b[39mreturn\u001b[39;00m \u001b[39mself\u001b[39m\u001b[39m.\u001b[39m_mesh_data[:, :\u001b[39m3\u001b[39m]\n",
      "File \u001b[0;32m~/Software/flowtorch/flowtorch/data/tau_surfacedataloader.py:162\u001b[0m, in \u001b[0;36mTAUSurfaceDataloader._load_mesh_data\u001b[0;34m(self)\u001b[0m\n\u001b[1;32m    157\u001b[0m     surface_tris \u001b[39m=\u001b[39m data\u001b[39m.\u001b[39mvariables[\u001b[39m\"\u001b[39m\u001b[39mpoints_of_surfacetriangles\u001b[39m\u001b[39m\"\u001b[39m][:]\n\u001b[1;32m    158\u001b[0m     surface_quads \u001b[39m=\u001b[39m data\u001b[39m.\u001b[39mvariables[\u001b[39m\"\u001b[39m\u001b[39mpoints_of_surfacequadrilaterals\u001b[39m\u001b[39m\"\u001b[39m][:]\n\u001b[0;32m--> 162\u001b[0m \u001b[39mself\u001b[39m\u001b[39m.\u001b[39m_mesh_data \u001b[39m=\u001b[39m pt\u001b[39m.\u001b[39mcat((vertices, weights\u001b[39m.\u001b[39munsqueeze(\u001b[39m-\u001b[39m\u001b[39m1\u001b[39m)), dim\u001b[39m=\u001b[39m\u001b[39m-\u001b[39m\u001b[39m1\u001b[39m)\n",
      "\u001b[0;31mNameError\u001b[0m: name 'vertices' is not defined"
     ]
    }
   ],
   "source": [
    "loader.vertices.shape[0]"
   ]
  },
  {
   "cell_type": "code",
   "execution_count": null,
   "id": "f1404453-629f-473c-8e2c-3a5209bf08b0",
   "metadata": {},
   "outputs": [],
   "source": [
    "loader.field_names[times[0]]"
   ]
  },
  {
   "cell_type": "code",
   "execution_count": null,
   "id": "b73b1797-7cae-4c90-9fd6-8ef912facf50",
   "metadata": {},
   "outputs": [],
   "source": [
    "cp = loader.load_snapshot(\"cp\", times)"
   ]
  },
  {
   "cell_type": "code",
   "execution_count": null,
   "id": "6b9f4889-f4e2-41d4-841e-c6de5425224f",
   "metadata": {},
   "outputs": [],
   "source": [
    "x = loader.vertices[:,0]\n",
    "y = loader.vertices[:,1]\n",
    "z = loader.vertices[:,2]"
   ]
  },
  {
   "cell_type": "code",
   "execution_count": null,
   "id": "03598bb9-ad19-48de-a484-21769704224b",
   "metadata": {},
   "outputs": [],
   "source": [
    "cp[:,0].shape"
   ]
  },
  {
   "cell_type": "code",
   "execution_count": null,
   "id": "a99702b0-55d1-4816-911d-b61e52bff765",
   "metadata": {},
   "outputs": [],
   "source": [
    "fig, ax = plt.subplots()\n",
    "ax.scatter(x,y,c=cp[:,0])\n",
    "plt.show()"
   ]
  },
  {
   "cell_type": "code",
   "execution_count": 8,
   "id": "c30e1079-b83e-41f2-a1a2-8e47448732fc",
   "metadata": {},
   "outputs": [
    {
     "data": {
      "text/plain": [
       "{'marker': <class 'netCDF4._netCDF4.Variable'>\n",
       " int32 marker(no_of_markers)\n",
       " unlimited dimensions: \n",
       " current shape = (7,)\n",
       " filling on, default _FillValue of -2147483647 used,\n",
       " 'centaur_key': <class 'netCDF4._netCDF4.Variable'>\n",
       " int32 centaur_key(no_of_markers)\n",
       " unlimited dimensions: \n",
       " current shape = (7,)\n",
       " filling on, default _FillValue of -2147483647 used,\n",
       " 'points_of_tetraeders': <class 'netCDF4._netCDF4.Variable'>\n",
       " int32 points_of_tetraeders(no_of_tetraeders, points_per_tetraeder)\n",
       " unlimited dimensions: \n",
       " current shape = (9222, 4)\n",
       " filling on, default _FillValue of -2147483647 used,\n",
       " 'points_of_prisms': <class 'netCDF4._netCDF4.Variable'>\n",
       " int32 points_of_prisms(no_of_prisms, points_per_prism)\n",
       " unlimited dimensions: \n",
       " current shape = (762, 6)\n",
       " filling on, default _FillValue of -2147483647 used,\n",
       " 'points_of_pyramids': <class 'netCDF4._netCDF4.Variable'>\n",
       " int32 points_of_pyramids(no_of_pyramids, points_per_pyramid)\n",
       " unlimited dimensions: \n",
       " current shape = (180, 5)\n",
       " filling on, default _FillValue of -2147483647 used,\n",
       " 'points_of_hexaeders': <class 'netCDF4._netCDF4.Variable'>\n",
       " int32 points_of_hexaeders(no_of_hexaeders, points_per_hexaeder)\n",
       " unlimited dimensions: \n",
       " current shape = (72, 8)\n",
       " filling on, default _FillValue of -2147483647 used,\n",
       " 'points_of_surfacetriangles': <class 'netCDF4._netCDF4.Variable'>\n",
       " int32 points_of_surfacetriangles(no_of_surfacetriangles, points_per_surfacetriangle)\n",
       " unlimited dimensions: \n",
       " current shape = (644, 3)\n",
       " filling on, default _FillValue of -2147483647 used,\n",
       " 'points_of_surfacequadrilaterals': <class 'netCDF4._netCDF4.Variable'>\n",
       " int32 points_of_surfacequadrilaterals(no_of_surfacequadrilaterals, points_per_surfacequadrilateral)\n",
       " unlimited dimensions: \n",
       " current shape = (36, 4)\n",
       " filling on, default _FillValue of -2147483647 used,\n",
       " 'boundarymarker_of_surfaces': <class 'netCDF4._netCDF4.Variable'>\n",
       " int32 boundarymarker_of_surfaces(no_of_surfaceelements)\n",
       " unlimited dimensions: \n",
       " current shape = (680,)\n",
       " filling on, default _FillValue of -2147483647 used,\n",
       " 'boundarypanel_of_surfaces': <class 'netCDF4._netCDF4.Variable'>\n",
       " int32 boundarypanel_of_surfaces(no_of_surfaceelements)\n",
       " unlimited dimensions: \n",
       " current shape = (680,)\n",
       " filling on, default _FillValue of -2147483647 used,\n",
       " 'points_xc': <class 'netCDF4._netCDF4.Variable'>\n",
       " float64 points_xc(no_of_points)\n",
       " unlimited dimensions: \n",
       " current shape = (2276,)\n",
       " filling on, default _FillValue of 9.969209968386869e+36 used,\n",
       " 'points_yc': <class 'netCDF4._netCDF4.Variable'>\n",
       " float64 points_yc(no_of_points)\n",
       " unlimited dimensions: \n",
       " current shape = (2276,)\n",
       " filling on, default _FillValue of 9.969209968386869e+36 used,\n",
       " 'points_zc': <class 'netCDF4._netCDF4.Variable'>\n",
       " float64 points_zc(no_of_points)\n",
       " unlimited dimensions: \n",
       " current shape = (2276,)\n",
       " filling on, default _FillValue of 9.969209968386869e+36 used,\n",
       " 'blockownpointidx': <class 'netCDF4._netCDF4.Variable'>\n",
       " int32 blockownpointidx(no_of_blocks_p1)\n",
       " unlimited dimensions: \n",
       " current shape = (2,)\n",
       " filling on, default _FillValue of -2147483647 used,\n",
       " 'blockid': <class 'netCDF4._netCDF4.Variable'>\n",
       " int32 blockid(no_of_blocks)\n",
       " unlimited dimensions: \n",
       " current shape = (1,)\n",
       " filling on, default _FillValue of -2147483647 used}"
      ]
     },
     "execution_count": 8,
     "metadata": {},
     "output_type": "execute_result"
    }
   ],
   "source": [
    "mfile = join(loader._para.path, loader._para.config[\"primary_grid\"])\n",
    "mdata = Dataset(mfile)\n",
    "mdata.variables"
   ]
  },
  {
   "cell_type": "code",
   "execution_count": 65,
   "id": "1c18e604-e790-4d1d-bb9d-d3edd4551dbc",
   "metadata": {},
   "outputs": [
    {
     "data": {
      "text/plain": [
       "masked_array(\n",
       "  data=[[  2,  60,  72],\n",
       "        [ 74,  24,   5],\n",
       "        [ 73,  75,  74],\n",
       "        ...,\n",
       "        [726, 845, 699],\n",
       "        [764, 710, 709],\n",
       "        [710, 810, 709]],\n",
       "  mask=False,\n",
       "  fill_value=999999,\n",
       "  dtype=int32)"
      ]
     },
     "execution_count": 65,
     "metadata": {},
     "output_type": "execute_result"
    }
   ],
   "source": [
    "b_o_s = mdata.variables[\"boundarymarker_of_surfaces\"][:]\n",
    "p_o_s = mdata.variables[\"points_of_surfacetriangles\"][:]\n",
    "p_o_q = mdata.variables[\"points_of_surfacequadrilaterals\"][:]\n",
    "xc  = mdata.variables[\"points_xc\"]\n",
    "yc  = mdata.variables[\"points_yc\"]\n",
    "zc  = mdata.variables[\"points_zc\"]\n",
    "p_o_s"
   ]
  },
  {
   "cell_type": "code",
   "execution_count": 98,
   "id": "c3117897",
   "metadata": {},
   "outputs": [
    {
     "ename": "KeyError",
     "evalue": "'Test'",
     "output_type": "error",
     "traceback": [
      "\u001b[0;31m---------------------------------------------------------------------------\u001b[0m",
      "\u001b[0;31mKeyError\u001b[0m                                  Traceback (most recent call last)",
      "Cell \u001b[0;32mIn[98], line 4\u001b[0m\n\u001b[1;32m      2\u001b[0m indices_of_marker \u001b[38;5;241m=\u001b[39m np\u001b[38;5;241m.\u001b[39mwhere((b_o_s \u001b[38;5;241m==\u001b[39m \u001b[38;5;241m5\u001b[39m))\n\u001b[1;32m      3\u001b[0m indices_of_marker\n\u001b[0;32m----> 4\u001b[0m \u001b[43mmdata\u001b[49m\u001b[38;5;241;43m.\u001b[39;49m\u001b[43mvariables\u001b[49m\u001b[43m[\u001b[49m\u001b[38;5;124;43m\"\u001b[39;49m\u001b[38;5;124;43mTest\u001b[39;49m\u001b[38;5;124;43m\"\u001b[39;49m\u001b[43m]\u001b[49m\n",
      "\u001b[0;31mKeyError\u001b[0m: 'Test'"
     ]
    }
   ],
   "source": [
    "#indices_of_marker = np.where((b_o_s == 7) | (b_o_s == 1))\n",
    "indices_of_marker = np.where((b_o_s == 5))\n",
    "indices_of_marker\n",
    "mdata.variables[\"Test\"]"
   ]
  },
  {
   "cell_type": "code",
   "execution_count": 91,
   "id": "e9f63461",
   "metadata": {},
   "outputs": [],
   "source": [
    "if len(p_o_q)>0:\n",
    "    nan_pt = pt.zeros(size=(len(p_o_s),1))\n",
    "    nan_pt[nan_pt==0] = float('nan')\n",
    "    # add nan to every triangle as 4th element so we can join the tensors\n",
    "    filled_p_o_s = pt.cat((pt.tensor(p_o_s, dtype=int), add_pt),1)\n",
    "    # join the tensors of tris and quads together\n",
    "    points_of_tris_and_quads = pt.cat((filled_p_o_s, pt.tensor(p_o_q)))\n",
    "    t = np.unique(points_of_tris_and_quads[indices_of_marker].flatten())\n",
    "    # Drop nan values again!\n",
    "    global_id_of_marker_points = t[~np.isnan(t)].astype(int)\n",
    "else:\n",
    "    # For Triangles only\n",
    "    indices_of_marker = np.where(b_o_s == 1)\n",
    "    global_id_of_marker_points = np.unique(p_o_s[indices_of_marker].flatten())\n"
   ]
  },
  {
   "cell_type": "code",
   "execution_count": 92,
   "id": "db9545e0",
   "metadata": {},
   "outputs": [
    {
     "data": {
      "text/plain": [
       "array([  1,   2,   3,   7,  11,  12,  13,  14,  15,  16,  28,  29,  30,\n",
       "        31,  32,  33,  34,  35,  36,  37,  38,  39,  40,  41,  42,  58,\n",
       "        60,  61,  62,  63,  64,  65, 130, 131, 132, 133, 134, 135, 136,\n",
       "       137, 138, 139, 140, 141, 142, 143, 144, 145, 146])"
      ]
     },
     "execution_count": 92,
     "metadata": {},
     "output_type": "execute_result"
    }
   ],
   "source": [
    "xs = xc[global_id_of_marker_points]\n",
    "ys = yc[global_id_of_marker_points]\n",
    "zs = zc[global_id_of_marker_points]\n",
    "global_id_of_marker_points"
   ]
  },
  {
   "cell_type": "code",
   "execution_count": 93,
   "id": "1972e6c1-3dad-497c-b739-2d07b7b5c9a5",
   "metadata": {},
   "outputs": [],
   "source": [
    "sfile = loader._file_name(times[0])\n",
    "sdata = Dataset(sfile)"
   ]
  },
  {
   "cell_type": "code",
   "execution_count": 94,
   "id": "413621c9-977b-4da4-a50a-9603176b8506",
   "metadata": {},
   "outputs": [
    {
     "data": {
      "text/plain": [
       "masked_array(data=[  0,   1,   2,   3,   4,   5,   6,   7,   8,   9,  10,\n",
       "                    11,  12,  13,  14,  15,  16,  17,  18,  19,  20,  21,\n",
       "                    22,  23,  24,  25,  26,  27,  28,  29,  30,  31,  32,\n",
       "                    33,  34,  35,  36,  37,  38,  39,  40,  41,  42,  43,\n",
       "                    44,  45,  46,  47,  48,  49,  50,  51,  52,  53,  54,\n",
       "                    55,  56,  57,  58,  59,  60,  61,  62,  63,  64,  65,\n",
       "                    66,  67,  68,  69,  70,  71,  72,  73,  74,  75,  76,\n",
       "                    77,  78,  79,  80,  81,  82,  83,  84,  85,  86,  87,\n",
       "                    88,  89,  90,  91,  92,  93,  94,  95,  96,  97,  98,\n",
       "                    99, 100, 101, 102, 103, 104, 105, 106, 107, 108, 109,\n",
       "                   110, 111, 112, 113, 114, 115, 116, 117, 118, 119, 120,\n",
       "                   121, 122, 123, 124, 125, 126, 127, 128, 129, 130, 131,\n",
       "                   132, 133, 134, 135, 136, 137, 138, 139, 140, 141, 142,\n",
       "                   143, 144, 145, 146, 147, 148, 149, 150, 151, 152, 153,\n",
       "                   154, 155, 156, 157, 158, 159, 160, 161, 162, 163, 164],\n",
       "             mask=False,\n",
       "       fill_value=999999,\n",
       "            dtype=int32)"
      ]
     },
     "execution_count": 94,
     "metadata": {},
     "output_type": "execute_result"
    }
   ],
   "source": [
    "gid = sdata.variables[\"global_id\"][:]\n",
    "cp = sdata.variables[\"cp\"][:]\n",
    "gid"
   ]
  },
  {
   "cell_type": "code",
   "execution_count": 95,
   "id": "e4edb2e4",
   "metadata": {},
   "outputs": [
    {
     "data": {
      "text/plain": [
       "array([  1,   2,   3,   7,  11,  12,  13,  14,  15,  16,  28,  29,  30,\n",
       "        31,  32,  33,  34,  35,  36,  37,  38,  39,  40,  41,  42,  58,\n",
       "        60,  61,  62,  63,  64,  65, 130, 131, 132, 133, 134, 135, 136,\n",
       "       137, 138, 139, 140, 141, 142, 143, 144, 145, 146])"
      ]
     },
     "execution_count": 95,
     "metadata": {},
     "output_type": "execute_result"
    }
   ],
   "source": [
    "indices = np.where(np.in1d(gid, global_id_of_marker_points))[0]\n",
    "indices"
   ]
  },
  {
   "cell_type": "code",
   "execution_count": 97,
   "id": "f52b1f7f",
   "metadata": {},
   "outputs": [
    {
     "data": {
      "image/png": "[encoded data removed]",
      "text/plain": [
       "<Figure size 640x480 with 1 Axes>"
      ]
     },
     "metadata": {},
     "output_type": "display_data"
    }
   ],
   "source": [
    "cp = sdata.variables[\"cp\"][:][np.where(np.in1d(gid,global_id_of_marker_points))[0]]\n",
    "xtest = sdata.variables[\"x\"][:][np.where(np.in1d(gid,global_id_of_marker_points))[0]]\n",
    "ytest = sdata.variables[\"y\"][:][np.where(np.in1d(gid,global_id_of_marker_points))[0]]\n",
    "ztest = sdata.variables[\"z\"][:][np.where(np.in1d(gid,global_id_of_marker_points))[0]]\n",
    "fig, ax = plt.subplots()\n",
    "ax.scatter(xs,zs, marker='^')\n",
    "ax.scatter(xtest,ztest, marker='v')\n",
    "plt.show()"
   ]
  }
 ],
 "metadata": {
  "kernelspec": {
   "display_name": "Python 3.8.16 ('flowtorch-dev-py38')",
   "language": "python",
   "name": "python3"
  },
  "language_info": {
   "codemirror_mode": {
    "name": "ipython",
    "version": 3
   },
   "file_extension": ".py",
   "mimetype": "text/x-python",
   "name": "python",
   "nbconvert_exporter": "python",
   "pygments_lexer": "ipython3",
   "version": "3.8.16"
  },
  "vscode": {
   "interpreter": {
    "hash": "8e3c86d9fe54c5870d0ea6d61be8713fd07e9fc4dd4b6ae80f2d5c03aca049ed"
   }
  }
 },
 "nbformat": 4,
 "nbformat_minor": 5
}
