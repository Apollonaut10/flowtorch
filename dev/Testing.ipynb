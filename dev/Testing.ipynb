{
 "cells": [
  {
   "cell_type": "code",
   "execution_count": 1,
   "metadata": {},
   "outputs": [
    {
     "name": "stdout",
     "output_type": "stream",
     "text": [
      "Warning: TecplotDataloader can't be loaded. Most likely, the 'paraview' module is missing.\n",
      "Refer to the installation instructions at https://github.com/FlowModelingControl/flowtorch\n",
      "If you are not using the TecplotDataloader, ignore this warning.\n"
     ]
    }
   ],
   "source": [
    "import sys\n",
    "from os.path import join\n",
    "import numpy as np\n",
    "import matplotlib.pyplot as plt\n",
    "from netCDF4 import Dataset\n",
    "import torch as pt\n",
    "sys.path.append(\"/home/spin_se/Software/flowtorch\")\n",
    "import flowtorch\n",
    "from flowtorch.data import TAUSurfaceDataloader\n",
    "from flowtorch import DATASETS"
   ]
  },
  {
   "cell_type": "code",
   "execution_count": 2,
   "metadata": {},
   "outputs": [
    {
     "data": {
      "text/plain": [
       "'(thisfile)'"
      ]
     },
     "execution_count": 2,
     "metadata": {},
     "output_type": "execute_result"
    }
   ],
   "source": [
    "path_ds = DATASETS[\"tau_surface_import\"]\n",
    "file_name = \"tau_euler.para\"\n",
    "loader = TAUSurfaceDataloader(join(path_ds,file_name))\n",
    "loader._para._config[\"bmap_file\"]"
   ]
  },
  {
   "cell_type": "code",
   "execution_count": 3,
   "metadata": {},
   "outputs": [
    {
     "data": {
      "text/plain": [
       "['WingUpper', 'WingLower', 'WingTE', 'WingTipRight', 'WingTipLeft']"
      ]
     },
     "execution_count": 3,
     "metadata": {},
     "output_type": "execute_result"
    }
   ],
   "source": [
    "loader.zone_names"
   ]
  },
  {
   "cell_type": "code",
   "execution_count": 4,
   "metadata": {},
   "outputs": [
    {
     "data": {
      "text/plain": [
       "'WingUpper'"
      ]
     },
     "execution_count": 4,
     "metadata": {},
     "output_type": "execute_result"
    }
   ],
   "source": [
    "loader.zone = 'WingUpper'\n",
    "loader.zone"
   ]
  },
  {
   "cell_type": "code",
   "execution_count": 5,
   "metadata": {},
   "outputs": [],
   "source": [
    "vertices = loader.vertices\n",
    "times = loader.write_times"
   ]
  },
  {
   "cell_type": "code",
   "execution_count": 6,
   "metadata": {},
   "outputs": [
    {
     "data": {
      "text/plain": [
       "['global_id',\n",
       " 'x',\n",
       " 'y',\n",
       " 'z',\n",
       " 'x_velocity',\n",
       " 'y_velocity',\n",
       " 'z_velocity',\n",
       " 'cp',\n",
       " 'cf',\n",
       " 'yplus']"
      ]
     },
     "execution_count": 6,
     "metadata": {},
     "output_type": "execute_result"
    }
   ],
   "source": [
    "loader.field_names[times[0]]"
   ]
  },
  {
   "cell_type": "code",
   "execution_count": 7,
   "metadata": {},
   "outputs": [
    {
     "name": "stdout",
     "output_type": "stream",
     "text": [
      "(165,)\n",
      "(165,)\n",
      "(165,)\n",
      "(165,)\n",
      "(165,)\n",
      "(165,)\n",
      "(165,)\n",
      "(165,)\n",
      "(165,)\n",
      "(165,)\n"
     ]
    }
   ],
   "source": [
    "time=times[0]\n",
    "with Dataset(loader._file_name(time,\"\")) as data:\n",
    "    for key in data.variables.keys():\n",
    "        print(data[key].shape)"
   ]
  },
  {
   "cell_type": "code",
   "execution_count": 8,
   "metadata": {},
   "outputs": [
    {
     "data": {
      "image/png": "[encoded data removed]",
      "text/plain": [
       "<Figure size 640x480 with 1 Axes>"
      ]
     },
     "metadata": {},
     "output_type": "display_data"
    }
   ],
   "source": [
    "import matplotlib.tri as mtri\n",
    "x=vertices[:,0]\n",
    "y=vertices[:,1]\n",
    "z=vertices[:,2]\n",
    "cp=loader.load_snapshot(\"cp\", times[9])\n",
    "triang = mtri.Triangulation(x,y)\n",
    "fig, ax = plt.subplots()\n",
    "ax.set_aspect('equal', adjustable='box')\n",
    "ax.grid(True)\n",
    "#ax.tricontour(triang, cp, levels=10, linewidths=0.5, colors='k')\n",
    "cbar = ax.tricontourf(triang, cp, levels=10, cmap='viridis')\n",
    "#plt.colorbar(cbar)\n",
    "plt.show()"
   ]
  },
  {
   "cell_type": "code",
   "execution_count": 9,
   "metadata": {},
   "outputs": [
    {
     "data": {
      "text/plain": [
       "array([  0,   1,   2,   3,   4,   5,   8,   9,  10,  11,  12,  13,  14,\n",
       "        15,  16,  17,  18,  19,  20,  21,  22,  23,  24,  60,  61,  62,\n",
       "        63,  64,  65,  66,  67,  68,  69,  70,  71,  72,  73,  74,  75,\n",
       "        76,  77,  78,  79,  80,  81,  82, 147, 148, 149, 150, 151, 152,\n",
       "       153, 154, 155, 156, 157, 158, 159, 160, 161, 162, 163, 164])"
      ]
     },
     "execution_count": 9,
     "metadata": {},
     "output_type": "execute_result"
    }
   ],
   "source": [
    "loader._global_id_of_zone_points[loader.zone]"
   ]
  },
  {
   "cell_type": "code",
   "execution_count": 10,
   "metadata": {},
   "outputs": [
    {
     "data": {
      "text/plain": [
       "{'WingUpper': [1, 7],\n",
       " 'WingLower': [2],\n",
       " 'WingTE': [3],\n",
       " 'WingTipRight': [4],\n",
       " 'WingTipLeft': [5]}"
      ]
     },
     "execution_count": 10,
     "metadata": {},
     "output_type": "execute_result"
    }
   ],
   "source": [
    "loader._para._parse_bmap()\n",
    "loader._para._bmap"
   ]
  },
  {
   "cell_type": "code",
   "execution_count": 11,
   "metadata": {},
   "outputs": [
    {
     "name": "stdout",
     "output_type": "stream",
     "text": [
      "WingUpper [1, 7]\n",
      "WingLower [2]\n",
      "WingTE [3]\n",
      "WingTipRight [4]\n",
      "WingTipLeft [5]\n"
     ]
    }
   ],
   "source": [
    "for zname, marker in loader._para._bmap.items():\n",
    "    print(zname, marker)"
   ]
  },
  {
   "cell_type": "code",
   "execution_count": 12,
   "metadata": {},
   "outputs": [
    {
     "data": {
      "text/plain": [
       "dict_keys(['WingUpper', 'WingLower', 'WingTE', 'WingTipRight', 'WingTipLeft'])"
      ]
     },
     "execution_count": 12,
     "metadata": {},
     "output_type": "execute_result"
    }
   ],
   "source": [
    "loader._para._bmap.keys()"
   ]
  },
  {
   "cell_type": "code",
   "execution_count": 13,
   "metadata": {},
   "outputs": [
    {
     "data": {
      "text/plain": [
       "tensor([[ 1.0000e-01,  1.0000e-02,  1.0000e-03],\n",
       "        [ 1.0000e-01, -1.0000e-02,  1.0000e-03],\n",
       "        [ 5.0586e-02, -1.0000e-02,  8.9440e-03],\n",
       "        [ 0.0000e+00, -1.0000e-02,  0.0000e+00],\n",
       "        [ 0.0000e+00,  1.0000e-02,  0.0000e+00],\n",
       "        [ 5.0586e-02,  1.0000e-02,  8.9440e-03],\n",
       "        [ 1.0000e-01,  5.0000e-03,  1.0000e-03],\n",
       "        [ 1.0000e-01,  0.0000e+00,  1.0000e-03],\n",
       "        [ 1.0000e-01, -5.0000e-03,  1.0000e-03],\n",
       "        [ 9.2962e-02, -1.0000e-02,  2.2688e-03],\n",
       "        [ 8.5921e-02, -1.0000e-02,  3.5216e-03],\n",
       "        [ 7.8877e-02, -1.0000e-02,  4.7527e-03],\n",
       "        [ 7.1826e-02, -1.0000e-02,  5.9508e-03],\n",
       "        [ 6.4766e-02, -1.0000e-02,  7.0916e-03],\n",
       "        [ 5.7690e-02, -1.0000e-02,  8.1212e-03],\n",
       "        [ 0.0000e+00, -3.3332e-03,  0.0000e+00],\n",
       "        [ 0.0000e+00,  3.3335e-03,  0.0000e+00],\n",
       "        [ 2.6320e-03,  1.0000e-02,  5.6790e-03],\n",
       "        [ 8.5084e-03,  1.0000e-02,  8.4528e-03],\n",
       "        [ 1.5653e-02,  1.0000e-02,  9.6854e-03],\n",
       "        [ 2.4272e-02,  1.0000e-02,  1.0128e-02],\n",
       "        [ 3.3550e-02,  1.0000e-02,  1.0014e-02],\n",
       "        [ 4.2878e-02,  1.0000e-02,  9.5546e-03],\n",
       "        [ 4.2925e-02, -1.0000e-02,  9.5517e-03],\n",
       "        [ 3.3624e-02, -1.0000e-02,  1.0012e-02],\n",
       "        [ 2.4373e-02, -1.0000e-02,  1.0129e-02],\n",
       "        [ 1.5709e-02, -1.0000e-02,  9.6910e-03],\n",
       "        [ 8.4904e-03, -1.0000e-02,  8.4479e-03],\n",
       "        [ 2.6179e-03, -1.0000e-02,  5.6671e-03],\n",
       "        [ 5.7689e-02,  1.0000e-02,  8.1206e-03],\n",
       "        [ 6.4766e-02,  1.0000e-02,  7.0908e-03],\n",
       "        [ 7.1826e-02,  1.0000e-02,  5.9504e-03],\n",
       "        [ 7.8876e-02,  1.0000e-02,  4.7520e-03],\n",
       "        [ 8.5921e-02,  1.0000e-02,  3.5214e-03],\n",
       "        [ 9.2962e-02,  1.0000e-02,  2.2687e-03],\n",
       "        [ 5.0586e-02, -5.0000e-03,  8.9440e-03],\n",
       "        [ 5.0586e-02,  0.0000e+00,  8.9440e-03],\n",
       "        [ 5.0586e-02,  5.0000e-03,  8.9440e-03],\n",
       "        [ 4.1050e-02,  4.6119e-05,  9.6665e-03],\n",
       "        [ 3.2384e-03, -3.1235e-03,  6.1454e-03],\n",
       "        [ 5.0703e-03,  3.2534e-03,  7.2085e-03],\n",
       "        [ 1.3188e-02,  3.3055e-03,  9.3890e-03],\n",
       "        [ 2.1193e-02,  3.8924e-03,  1.0051e-02],\n",
       "        [ 1.0869e-02, -3.2292e-03,  9.0004e-03],\n",
       "        [ 1.9968e-02, -2.8999e-03,  9.9985e-03],\n",
       "        [ 3.0085e-02,  2.6158e-06,  1.0106e-02],\n",
       "        [ 9.2962e-02,  5.0000e-03,  2.2687e-03],\n",
       "        [ 8.5921e-02,  5.0000e-03,  3.5216e-03],\n",
       "        [ 7.8876e-02,  5.0000e-03,  4.7527e-03],\n",
       "        [ 7.1826e-02,  5.0000e-03,  5.9508e-03],\n",
       "        [ 6.4766e-02,  5.0000e-03,  7.0917e-03],\n",
       "        [ 5.7690e-02,  5.0000e-03,  8.1212e-03],\n",
       "        [ 9.2962e-02, -2.0437e-09,  2.2687e-03],\n",
       "        [ 8.5921e-02, -4.2699e-09,  3.5216e-03],\n",
       "        [ 7.8876e-02, -6.7349e-09,  4.7527e-03],\n",
       "        [ 7.1826e-02, -9.5240e-09,  5.9508e-03],\n",
       "        [ 6.4766e-02, -1.2761e-08,  7.0917e-03],\n",
       "        [ 5.7690e-02, -1.6573e-08,  8.1212e-03],\n",
       "        [ 9.2962e-02, -5.0000e-03,  2.2687e-03],\n",
       "        [ 8.5921e-02, -5.0000e-03,  3.5216e-03],\n",
       "        [ 7.8876e-02, -5.0000e-03,  4.7527e-03],\n",
       "        [ 7.1826e-02, -5.0000e-03,  5.9508e-03],\n",
       "        [ 6.4766e-02, -5.0000e-03,  7.0917e-03],\n",
       "        [ 5.7690e-02, -5.0000e-03,  8.1212e-03]])"
      ]
     },
     "execution_count": 13,
     "metadata": {},
     "output_type": "execute_result"
    }
   ],
   "source": [
    "loader.vertices"
   ]
  },
  {
   "cell_type": "code",
   "execution_count": null,
   "metadata": {},
   "outputs": [],
   "source": []
  }
 ],
 "metadata": {
  "kernelspec": {
   "display_name": "Python 3.8.16 ('flowtorch-dev-py38')",
   "language": "python",
   "name": "python3"
  },
  "language_info": {
   "codemirror_mode": {
    "name": "ipython",
    "version": 3
   },
   "file_extension": ".py",
   "mimetype": "text/x-python",
   "name": "python",
   "nbconvert_exporter": "python",
   "pygments_lexer": "ipython3",
   "version": "3.8.16"
  },
  "orig_nbformat": 4,
  "vscode": {
   "interpreter": {
    "hash": "8e3c86d9fe54c5870d0ea6d61be8713fd07e9fc4dd4b6ae80f2d5c03aca049ed"
   }
  }
 },
 "nbformat": 4,
 "nbformat_minor": 2
}
