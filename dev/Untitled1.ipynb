{
 "cells": [
  {
   "cell_type": "code",
   "execution_count": 51,
   "id": "c74ef7f3-a325-4207-8597-af950311f836",
   "metadata": {},
   "outputs": [
    {
     "data": {
      "text/plain": [
       "array([[0.5, 0.1, 0.7],\n",
       "       [0.2, 0.4, 0.3],\n",
       "       [0.8, 0.6, 0.9],\n",
       "       [0.6, 0.9, 0.4],\n",
       "       [0.4, 0.2, 0.8],\n",
       "       [0.7, 0.5, 0.5],\n",
       "       [0.3, 0.8, 0.2],\n",
       "       [0.9, 0.3, 0.6]])"
      ]
     },
     "execution_count": 51,
     "metadata": {},
     "output_type": "execute_result"
    }
   ],
   "source": [
    "import numpy as np\n",
    "\n",
    "# Assuming you have the following lists\n",
    "points_x = np.array([0.5, 0.2, 0.8, 0.6, 0.4, 0.7, 0.3, 0.9])\n",
    "points_y = np.array([0.1, 0.4, 0.6, 0.9, 0.2, 0.5, 0.8, 0.3])\n",
    "points_z = np.array([0.7, 0.3, 0.9, 0.4, 0.8, 0.5, 0.2, 0.6])\n",
    "triangle_list = [[0, 1, 2], [3, 4, 5], [6, 7, 0], [1, 3, 5]]\n",
    "quad_list = [[0, 1, 2, 3], [4, 5, 6, 7]]\n",
    "marker_list = [200, 200, 200, 400, 500, 200]  # Example with extended marker list\n",
    "\n",
    "# Combine x, y, z coordinates into a single array\n",
    "points_xyz = np.column_stack((points_x, points_y, points_z))\n",
    "points_xyz"
   ]
  },
  {
   "cell_type": "code",
   "execution_count": 52,
   "id": "f6013d00-4234-4442-9142-b063704eeeba",
   "metadata": {},
   "outputs": [],
   "source": [
    "# Create a dictionary to map unique points to their indices and markers\n",
    "unique_points = {}\n",
    "unique_markers = {}"
   ]
  },
  {
   "cell_type": "code",
   "execution_count": 53,
   "id": "de244192-e746-47ac-9345-29ffffa36a00",
   "metadata": {},
   "outputs": [
    {
     "data": {
      "text/plain": [
       "{(0.5, 0.1, 0.7, 200.0): 200,\n",
       " (0.2, 0.4, 0.3, 200.0): 200,\n",
       " (0.8, 0.6, 0.9, 200.0): 200,\n",
       " (0.6, 0.9, 0.4, 200.0): 200,\n",
       " (0.4, 0.2, 0.8, 200.0): 200,\n",
       " (0.7, 0.5, 0.5, 200.0): 200,\n",
       " (0.3, 0.8, 0.2, 200.0): 200,\n",
       " (0.9, 0.3, 0.6, 200.0): 200,\n",
       " (0.2, 0.4, 0.3, 400.0): 400,\n",
       " (0.6, 0.9, 0.4, 400.0): 400,\n",
       " (0.7, 0.5, 0.5, 400.0): 400}"
      ]
     },
     "execution_count": 53,
     "metadata": {},
     "output_type": "execute_result"
    }
   ],
   "source": [
    "# Iterate over triangle list and marker list\n",
    "for triangle, marker in zip(triangle_list, marker_list[:len(triangle_list)]):\n",
    "    points_triangle = points_xyz[triangle]\n",
    "    for point in points_triangle:\n",
    "        point_key = tuple(np.append(point,marker))\n",
    "        if point_key not in unique_points:\n",
    "            unique_points[point_key] = len(unique_points)\n",
    "            unique_markers[point_key] = marker\n",
    "unique_markers"
   ]
  },
  {
   "cell_type": "code",
   "execution_count": 54,
   "id": "9fe2057a-5433-404f-815b-f92b2c8bfc91",
   "metadata": {},
   "outputs": [],
   "source": [
    "# Iterate over quad list and marker list\n",
    "for quad, marker in zip(quad_list, marker_list[len(triangle_list):]):\n",
    "    points_quad = points_xyz[quad]\n",
    "    for point in points_quad:\n",
    "        point_key = tuple(np.append(point,marker))\n",
    "        if point_key not in unique_points:\n",
    "            unique_points[point_key] = len(unique_points)\n",
    "            unique_markers[point_key] = marker"
   ]
  },
  {
   "cell_type": "code",
   "execution_count": 55,
   "id": "0ed04bf8-bac2-416b-8fd5-0873cc6772b2",
   "metadata": {},
   "outputs": [],
   "source": [
    "# Create a new array to store unique points and markers\n",
    "unique_array = np.zeros((len(unique_points), 4))  # Assuming 3D points and 1 marker value\n",
    "unique_array[:, :] = np.array(list(unique_points.keys()))"
   ]
  },
  {
   "cell_type": "code",
   "execution_count": 56,
   "id": "eaea853f-aa6c-4541-8580-2927eeab693a",
   "metadata": {},
   "outputs": [
    {
     "name": "stdout",
     "output_type": "stream",
     "text": [
      "[[2.e-01 4.e-01 3.e-01 2.e+02]\n",
      " [2.e-01 4.e-01 3.e-01 4.e+02]\n",
      " [2.e-01 4.e-01 3.e-01 5.e+02]\n",
      " [3.e-01 8.e-01 2.e-01 2.e+02]\n",
      " [4.e-01 2.e-01 8.e-01 2.e+02]\n",
      " [5.e-01 1.e-01 7.e-01 2.e+02]\n",
      " [5.e-01 1.e-01 7.e-01 5.e+02]\n",
      " [6.e-01 9.e-01 4.e-01 2.e+02]\n",
      " [6.e-01 9.e-01 4.e-01 4.e+02]\n",
      " [6.e-01 9.e-01 4.e-01 5.e+02]\n",
      " [7.e-01 5.e-01 5.e-01 2.e+02]\n",
      " [7.e-01 5.e-01 5.e-01 4.e+02]\n",
      " [8.e-01 6.e-01 9.e-01 2.e+02]\n",
      " [8.e-01 6.e-01 9.e-01 5.e+02]\n",
      " [9.e-01 3.e-01 6.e-01 2.e+02]]\n"
     ]
    }
   ],
   "source": [
    "# Remove duplicate points with same markers\n",
    "_, unique_indices = np.unique(unique_array[:, :], axis=0, return_index=True)\n",
    "unique_array = unique_array[unique_indices]\n",
    "\n",
    "print(unique_array)"
   ]
  },
  {
   "cell_type": "markdown",
   "id": "e041b629-0ddf-4bb6-ba10-6c40d3e57a76",
   "metadata": {},
   "source": [
    "# Faster version"
   ]
  },
  {
   "cell_type": "code",
   "execution_count": 74,
   "id": "1b407132-c5f6-4014-8516-bdda03f0f3a8",
   "metadata": {},
   "outputs": [
    {
     "name": "stdout",
     "output_type": "stream",
     "text": [
      "[(0.2, 0.4, 0.3, 200) (0.2, 0.4, 0.3, 400) (0.2, 0.4, 0.3, 500)\n",
      " (0.3, 0.8, 0.2, 200) (0.4, 0.2, 0.8, 200) (0.5, 0.1, 0.7, 200)\n",
      " (0.5, 0.1, 0.7, 500) (0.6, 0.9, 0.4, 200) (0.6, 0.9, 0.4, 400)\n",
      " (0.6, 0.9, 0.4, 500) (0.7, 0.5, 0.5, 200) (0.7, 0.5, 0.5, 400)\n",
      " (0.8, 0.6, 0.9, 200) (0.8, 0.6, 0.9, 500) (0.9, 0.3, 0.6, 200)]\n"
     ]
    }
   ],
   "source": [
    "import numpy as np\n",
    "\n",
    "# Assuming you have the following lists\n",
    "points_x = np.array([0.5, 0.2, 0.8, 0.6, 0.4, 0.7, 0.3, 0.9])\n",
    "points_y = np.array([0.1, 0.4, 0.6, 0.9, 0.2, 0.5, 0.8, 0.3])\n",
    "points_z = np.array([0.7, 0.3, 0.9, 0.4, 0.8, 0.5, 0.2, 0.6])\n",
    "points_tri = [[0, 1, 2], [3, 4, 5], [6, 7, 0], [1, 3, 5]]\n",
    "points_quad = [[0, 1, 2, 3], [4, 5, 6, 7]]\n",
    "marker_list = [200, 200, 200, 400, 500, 200]\n",
    "\n",
    "# Combine x, y, z coordinates into a single array\n",
    "points_xyz = np.column_stack((points_x, points_y, points_z))\n",
    "\n",
    "# Combine triangle and quad indices into a single list\n",
    "points_indices = points_tri + points_quad\n",
    "\n",
    "# Combine marker_list for triangle and quad\n",
    "combined_marker_list = marker_list[:len(points_tri)] + marker_list[len(points_tri):]\n",
    "\n",
    "# Create a structured array to store unique points and markers\n",
    "dtype = [('x', float), ('y', float), ('z', float), ('marker', int)]\n",
    "unique_array = np.empty(0, dtype=dtype)\n",
    "\n",
    "# Iterate over indices and marker_list simultaneously\n",
    "for indices, marker in zip(points_indices, combined_marker_list):\n",
    "    points_indices = points_xyz[indices]\n",
    "    unique_points = np.empty(len(indices), dtype=dtype)\n",
    "    unique_points['x'] = points_indices[:, 0]\n",
    "    unique_points['y'] = points_indices[:, 1]\n",
    "    unique_points['z'] = points_indices[:, 2]\n",
    "    unique_points['marker'] = marker\n",
    "    unique_array = np.append(unique_array, unique_points)\n",
    "\n",
    "# Remove duplicate points with same markers\n",
    "_, unique_indices = np.unique(unique_array[['x', 'y', 'z', 'marker']], return_index=True)\n",
    "unique_array = unique_array[unique_indices]\n",
    "\n",
    "print(unique_array)"
   ]
  },
  {
   "cell_type": "code",
   "execution_count": 79,
   "id": "cbf51c2a-6fae-4a3c-b16b-22d591c628a8",
   "metadata": {},
   "outputs": [
    {
     "name": "stdout",
     "output_type": "stream",
     "text": [
      "[(0.2, 0.4, 0.3, 200) (0.2, 0.4, 0.3, 400) (0.2, 0.4, 0.3, 500)\n",
      " (0.3, 0.8, 0.2, 200) (0.4, 0.2, 0.8, 200) (0.5, 0.1, 0.7, 200)\n",
      " (0.5, 0.1, 0.7, 500) (0.6, 0.9, 0.4, 200) (0.6, 0.9, 0.4, 400)\n",
      " (0.6, 0.9, 0.4, 500) (0.7, 0.5, 0.5, 200) (0.7, 0.5, 0.5, 400)\n",
      " (0.8, 0.6, 0.9, 200) (0.8, 0.6, 0.9, 500) (0.9, 0.3, 0.6, 200)]\n"
     ]
    }
   ],
   "source": [
    "import numpy as np\n",
    "\n",
    "# Assuming you have the following lists\n",
    "points_x = np.array([0.5, 0.2, 0.8, 0.6, 0.4, 0.7, 0.3, 0.9])\n",
    "points_y = np.array([0.1, 0.4, 0.6, 0.9, 0.2, 0.5, 0.8, 0.3])\n",
    "points_z = np.array([0.7, 0.3, 0.9, 0.4, 0.8, 0.5, 0.2, 0.6])\n",
    "points_tri = np.array([[0, 1, 2], [3, 4, 5], [6, 7, 0], [1, 3, 5]])\n",
    "points_quad = np.array([[0, 1, 2, 3], [4, 5, 6, 7]])\n",
    "marker_list = np.array([200, 200, 200, 400, 500, 200])\n",
    "\n",
    "# Combine x, y, z coordinates into a single array\n",
    "points_xyz = np.column_stack((points_x, points_y, points_z))\n",
    "\n",
    "# Create a new array to store combined indices\n",
    "num_triangles = len(points_tri)\n",
    "num_quads = len(points_quad)\n",
    "total_triangles = num_triangles + num_quads\n",
    "points_indices = np.full((total_triangles, 4), -1, dtype=int)\n",
    "points_indices[:num_triangles, :3] = points_tri\n",
    "points_indices[num_triangles:, :] = points_quad\n",
    "\n",
    "# Combine marker_list for triangle and quad\n",
    "combined_marker_list = np.concatenate((marker_list[:num_triangles], marker_list[num_triangles:]))\n",
    "\n",
    "# Create a structured array to store unique points and markers\n",
    "dtype = [('x', float), ('y', float), ('z', float), ('marker', int)]\n",
    "unique_array = np.empty(0, dtype=dtype)\n",
    "\n",
    "# Iterate over indices and marker_list simultaneously\n",
    "for indices, marker in zip(points_indices, combined_marker_list):\n",
    "    if -1 in indices:\n",
    "        indices = indices[:-1]\n",
    "    points_indices = points_xyz[indices]\n",
    "    unique_points = np.empty(len(indices), dtype=dtype)\n",
    "    unique_points['x'] = points_indices[:, 0]\n",
    "    unique_points['y'] = points_indices[:, 1]\n",
    "    unique_points['z'] = points_indices[:, 2]\n",
    "    unique_points['marker'] = marker\n",
    "    unique_array = np.append(unique_array, unique_points)\n",
    "\n",
    "# Remove duplicate points with same markers\n",
    "_, unique_indices = np.unique(unique_array[['x', 'y', 'z', 'marker']], return_index=True)\n",
    "unique_array = unique_array[unique_indices]\n",
    "\n",
    "print(unique_array)"
   ]
  },
  {
   "cell_type": "code",
   "execution_count": null,
   "id": "88141656-3aba-41cc-90b0-68ce6cce374e",
   "metadata": {},
   "outputs": [],
   "source": []
  }
 ],
 "metadata": {
  "kernelspec": {
   "display_name": "Python 3 (ipykernel)",
   "language": "python",
   "name": "python3"
  },
  "language_info": {
   "codemirror_mode": {
    "name": "ipython",
    "version": 3
   },
   "file_extension": ".py",
   "mimetype": "text/x-python",
   "name": "python",
   "nbconvert_exporter": "python",
   "pygments_lexer": "ipython3",
   "version": "3.9.7"
  }
 },
 "nbformat": 4,
 "nbformat_minor": 5
}
